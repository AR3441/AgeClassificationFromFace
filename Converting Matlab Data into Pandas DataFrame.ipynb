{
 "cells": [
  {
   "cell_type": "code",
   "execution_count": 1,
   "metadata": {},
   "outputs": [],
   "source": [
    "import scipy.io as sio\n",
    "import pandas as pd\n",
    "import numpy as np\n",
    "from datetime import datetime, date, time"
   ]
  },
  {
   "cell_type": "code",
   "execution_count": 2,
   "metadata": {},
   "outputs": [],
   "source": [
    "data = sio.loadmat('data/imdb_meta/imdb.mat')"
   ]
  },
  {
   "cell_type": "code",
   "execution_count": 3,
   "metadata": {},
   "outputs": [],
   "source": [
    "imdb_meta_data = sio.loadmat('data/imdb_meta/imdb.mat')"
   ]
  },
  {
   "cell_type": "code",
   "execution_count": 4,
   "metadata": {},
   "outputs": [
    {
     "data": {
      "text/plain": [
       "{'__header__': b'MATLAB 5.0 MAT-file, Platform: GLNXA64, Created on: Sun Jan 17 11:30:27 2016',\n",
       " '__version__': '1.0',\n",
       " '__globals__': [],\n",
       " 'imdb': array([[(array([[693726, 693726, 693726, ..., 726831, 726831, 726831]]), array([[1968, 1970, 1968, ..., 2011, 2011, 2011]], dtype=uint16), array([[array(['01/nm0000001_rm124825600_1899-5-10_1968.jpg'], dtype='<U43'),\n",
       "         array(['01/nm0000001_rm3343756032_1899-5-10_1970.jpg'], dtype='<U44'),\n",
       "         array(['01/nm0000001_rm577153792_1899-5-10_1968.jpg'], dtype='<U43'),\n",
       "         ...,\n",
       "         array(['08/nm3994408_rm926592512_1989-12-29_2011.jpg'], dtype='<U44'),\n",
       "         array(['08/nm3994408_rm943369728_1989-12-29_2011.jpg'], dtype='<U44'),\n",
       "         array(['08/nm3994408_rm976924160_1989-12-29_2011.jpg'], dtype='<U44')]],\n",
       "       dtype=object), array([[1., 1., 1., ..., 0., 0., 0.]]), array([[array(['Fred Astaire'], dtype='<U12'),\n",
       "         array(['Fred Astaire'], dtype='<U12'),\n",
       "         array(['Fred Astaire'], dtype='<U12'), ...,\n",
       "         array(['Jane Levy'], dtype='<U9'),\n",
       "         array(['Jane Levy'], dtype='<U9'),\n",
       "         array(['Jane Levy'], dtype='<U9')]], dtype=object), array([[array([[1072.926,  161.838, 1214.784,  303.696]]),\n",
       "         array([[477.184, 100.352, 622.592, 245.76 ]]),\n",
       "         array([[114.96964309, 114.96964309, 451.68657236, 451.68657236]]),\n",
       "         ..., array([[  1,   1, 453, 640]], dtype=uint16),\n",
       "         array([[144.75225472, 126.76472288, 305.78804127, 287.80050943]]),\n",
       "         array([[457.524,  41.748, 518.016, 102.24 ]])]], dtype=object), array([[1.45969291, 2.5431976 , 3.45557949, ...,       -inf, 4.45072452,\n",
       "         2.13350269]]), array([[1.11897336, 1.85200773, 2.98566022, ...,        nan,        nan,\n",
       "                nan]]), array([[array([\"'Lee' George Quinones\"], dtype='<U21'),\n",
       "         array([\"'Weird Al' Yankovic\"], dtype='<U19'),\n",
       "         array(['2 Chainz'], dtype='<U8'), ...,\n",
       "         array(['Éric Caravaca'], dtype='<U13'),\n",
       "         array(['Ólafur Darri Ólafsson'], dtype='<U21'),\n",
       "         array(['Óscar Jaenada'], dtype='<U13')]], dtype=object), array([[6488, 6488, 6488, ..., 8410, 8410, 8410]], dtype=uint16))]],\n",
       "       dtype=[('dob', 'O'), ('photo_taken', 'O'), ('full_path', 'O'), ('gender', 'O'), ('name', 'O'), ('face_location', 'O'), ('face_score', 'O'), ('second_face_score', 'O'), ('celeb_names', 'O'), ('celeb_id', 'O')])}"
      ]
     },
     "execution_count": 4,
     "metadata": {},
     "output_type": "execute_result"
    }
   ],
   "source": [
    "imdb_meta_data"
   ]
  },
  {
   "cell_type": "code",
   "execution_count": 5,
   "metadata": {},
   "outputs": [],
   "source": [
    "#Getting values that matter\n",
    "imdb_meta_data = imdb_meta_data['imdb']"
   ]
  },
  {
   "cell_type": "code",
   "execution_count": 6,
   "metadata": {},
   "outputs": [
    {
     "data": {
      "text/plain": [
       "numpy.ndarray"
      ]
     },
     "execution_count": 6,
     "metadata": {},
     "output_type": "execute_result"
    }
   ],
   "source": [
    "type(imdb_meta_data)"
   ]
  },
  {
   "cell_type": "code",
   "execution_count": 7,
   "metadata": {},
   "outputs": [
    {
     "data": {
      "text/plain": [
       "(1, 1)"
      ]
     },
     "execution_count": 7,
     "metadata": {},
     "output_type": "execute_result"
    }
   ],
   "source": [
    "imdb_meta_data.shape"
   ]
  },
  {
   "cell_type": "code",
   "execution_count": 8,
   "metadata": {},
   "outputs": [
    {
     "data": {
      "text/plain": [
       "dtype([('dob', 'O'), ('photo_taken', 'O'), ('full_path', 'O'), ('gender', 'O'), ('name', 'O'), ('face_location', 'O'), ('face_score', 'O'), ('second_face_score', 'O'), ('celeb_names', 'O'), ('celeb_id', 'O')])"
      ]
     },
     "execution_count": 8,
     "metadata": {},
     "output_type": "execute_result"
    }
   ],
   "source": [
    "imdb_meta_data.dtype"
   ]
  },
  {
   "cell_type": "code",
   "execution_count": 10,
   "metadata": {},
   "outputs": [],
   "source": [
    "columns = imdb_meta_data.dtype.names"
   ]
  },
  {
   "cell_type": "code",
   "execution_count": 11,
   "metadata": {},
   "outputs": [
    {
     "data": {
      "text/plain": [
       "('dob',\n",
       " 'photo_taken',\n",
       " 'full_path',\n",
       " 'gender',\n",
       " 'name',\n",
       " 'face_location',\n",
       " 'face_score',\n",
       " 'second_face_score',\n",
       " 'celeb_names',\n",
       " 'celeb_id')"
      ]
     },
     "execution_count": 11,
     "metadata": {},
     "output_type": "execute_result"
    }
   ],
   "source": [
    "columns #Columns names for dataframe that will be created from this data"
   ]
  },
  {
   "cell_type": "code",
   "execution_count": 13,
   "metadata": {
    "collapsed": true
   },
   "outputs": [
    {
     "data": {
      "text/plain": [
       "array([[(array([[693726, 693726, 693726, ..., 726831, 726831, 726831]]), array([[1968, 1970, 1968, ..., 2011, 2011, 2011]], dtype=uint16), array([[array(['01/nm0000001_rm124825600_1899-5-10_1968.jpg'], dtype='<U43'),\n",
       "        array(['01/nm0000001_rm3343756032_1899-5-10_1970.jpg'], dtype='<U44'),\n",
       "        array(['01/nm0000001_rm577153792_1899-5-10_1968.jpg'], dtype='<U43'),\n",
       "        ...,\n",
       "        array(['08/nm3994408_rm926592512_1989-12-29_2011.jpg'], dtype='<U44'),\n",
       "        array(['08/nm3994408_rm943369728_1989-12-29_2011.jpg'], dtype='<U44'),\n",
       "        array(['08/nm3994408_rm976924160_1989-12-29_2011.jpg'], dtype='<U44')]],\n",
       "      dtype=object), array([[1., 1., 1., ..., 0., 0., 0.]]), array([[array(['Fred Astaire'], dtype='<U12'),\n",
       "        array(['Fred Astaire'], dtype='<U12'),\n",
       "        array(['Fred Astaire'], dtype='<U12'), ...,\n",
       "        array(['Jane Levy'], dtype='<U9'),\n",
       "        array(['Jane Levy'], dtype='<U9'),\n",
       "        array(['Jane Levy'], dtype='<U9')]], dtype=object), array([[array([[1072.926,  161.838, 1214.784,  303.696]]),\n",
       "        array([[477.184, 100.352, 622.592, 245.76 ]]),\n",
       "        array([[114.96964309, 114.96964309, 451.68657236, 451.68657236]]),\n",
       "        ..., array([[  1,   1, 453, 640]], dtype=uint16),\n",
       "        array([[144.75225472, 126.76472288, 305.78804127, 287.80050943]]),\n",
       "        array([[457.524,  41.748, 518.016, 102.24 ]])]], dtype=object), array([[1.45969291, 2.5431976 , 3.45557949, ...,       -inf, 4.45072452,\n",
       "        2.13350269]]), array([[1.11897336, 1.85200773, 2.98566022, ...,        nan,        nan,\n",
       "               nan]]), array([[array([\"'Lee' George Quinones\"], dtype='<U21'),\n",
       "        array([\"'Weird Al' Yankovic\"], dtype='<U19'),\n",
       "        array(['2 Chainz'], dtype='<U8'), ...,\n",
       "        array(['Éric Caravaca'], dtype='<U13'),\n",
       "        array(['Ólafur Darri Ólafsson'], dtype='<U21'),\n",
       "        array(['Óscar Jaenada'], dtype='<U13')]], dtype=object), array([[6488, 6488, 6488, ..., 8410, 8410, 8410]], dtype=uint16))]],\n",
       "      dtype=[('dob', 'O'), ('photo_taken', 'O'), ('full_path', 'O'), ('gender', 'O'), ('name', 'O'), ('face_location', 'O'), ('face_score', 'O'), ('second_face_score', 'O'), ('celeb_names', 'O'), ('celeb_id', 'O')])"
      ]
     },
     "execution_count": 13,
     "metadata": {},
     "output_type": "execute_result"
    }
   ],
   "source": [
    "imdb_meta_data"
   ]
  },
  {
   "cell_type": "code",
   "execution_count": 14,
   "metadata": {},
   "outputs": [],
   "source": [
    "data = {column : imdb_meta_data[column][0,0][0] for column in columns} #creating a dictionary, to easily pass into dataframe"
   ]
  },
  {
   "cell_type": "code",
   "execution_count": 15,
   "metadata": {
    "collapsed": true
   },
   "outputs": [
    {
     "data": {
      "text/plain": [
       "{'dob': array([693726, 693726, 693726, ..., 726831, 726831, 726831]),\n",
       " 'photo_taken': array([1968, 1970, 1968, ..., 2011, 2011, 2011], dtype=uint16),\n",
       " 'full_path': array([array(['01/nm0000001_rm124825600_1899-5-10_1968.jpg'], dtype='<U43'),\n",
       "        array(['01/nm0000001_rm3343756032_1899-5-10_1970.jpg'], dtype='<U44'),\n",
       "        array(['01/nm0000001_rm577153792_1899-5-10_1968.jpg'], dtype='<U43'),\n",
       "        ...,\n",
       "        array(['08/nm3994408_rm926592512_1989-12-29_2011.jpg'], dtype='<U44'),\n",
       "        array(['08/nm3994408_rm943369728_1989-12-29_2011.jpg'], dtype='<U44'),\n",
       "        array(['08/nm3994408_rm976924160_1989-12-29_2011.jpg'], dtype='<U44')],\n",
       "       dtype=object),\n",
       " 'gender': array([1., 1., 1., ..., 0., 0., 0.]),\n",
       " 'name': array([array(['Fred Astaire'], dtype='<U12'),\n",
       "        array(['Fred Astaire'], dtype='<U12'),\n",
       "        array(['Fred Astaire'], dtype='<U12'), ...,\n",
       "        array(['Jane Levy'], dtype='<U9'),\n",
       "        array(['Jane Levy'], dtype='<U9'),\n",
       "        array(['Jane Levy'], dtype='<U9')], dtype=object),\n",
       " 'face_location': array([array([[1072.926,  161.838, 1214.784,  303.696]]),\n",
       "        array([[477.184, 100.352, 622.592, 245.76 ]]),\n",
       "        array([[114.96964309, 114.96964309, 451.68657236, 451.68657236]]),\n",
       "        ..., array([[  1,   1, 453, 640]], dtype=uint16),\n",
       "        array([[144.75225472, 126.76472288, 305.78804127, 287.80050943]]),\n",
       "        array([[457.524,  41.748, 518.016, 102.24 ]])], dtype=object),\n",
       " 'face_score': array([1.45969291, 2.5431976 , 3.45557949, ...,       -inf, 4.45072452,\n",
       "        2.13350269]),\n",
       " 'second_face_score': array([1.11897336, 1.85200773, 2.98566022, ...,        nan,        nan,\n",
       "               nan]),\n",
       " 'celeb_names': array([array([\"'Lee' George Quinones\"], dtype='<U21'),\n",
       "        array([\"'Weird Al' Yankovic\"], dtype='<U19'),\n",
       "        array(['2 Chainz'], dtype='<U8'), ...,\n",
       "        array(['Éric Caravaca'], dtype='<U13'),\n",
       "        array(['Ólafur Darri Ólafsson'], dtype='<U21'),\n",
       "        array(['Óscar Jaenada'], dtype='<U13')], dtype=object),\n",
       " 'celeb_id': array([6488, 6488, 6488, ..., 8410, 8410, 8410], dtype=uint16)}"
      ]
     },
     "execution_count": 15,
     "metadata": {},
     "output_type": "execute_result"
    }
   ],
   "source": [
    "data"
   ]
  },
  {
   "cell_type": "code",
   "execution_count": 28,
   "metadata": {},
   "outputs": [
    {
     "name": "stdout",
     "output_type": "stream",
     "text": [
      "460723\n",
      "460723\n",
      "460723\n",
      "460723\n",
      "460723\n",
      "460723\n",
      "460723\n",
      "460723\n",
      "20284\n",
      "460723\n"
     ]
    }
   ],
   "source": [
    "for c in data:\n",
    "    print(len(data[c]))\n",
    "#Finding the length of each array in the dataframe, celeb_names doens't have enough information"
   ]
  },
  {
   "cell_type": "code",
   "execution_count": 23,
   "metadata": {},
   "outputs": [
    {
     "data": {
      "text/plain": [
       "460723"
      ]
     },
     "execution_count": 23,
     "metadata": {},
     "output_type": "execute_result"
    }
   ],
   "source": [
    "len(data['dob'])"
   ]
  },
  {
   "cell_type": "code",
   "execution_count": 34,
   "metadata": {},
   "outputs": [
    {
     "data": {
      "text/plain": [
       "20284"
      ]
     },
     "execution_count": 34,
     "metadata": {},
     "output_type": "execute_result"
    }
   ],
   "source": [
    "len(data['celeb_names'])"
   ]
  },
  {
   "cell_type": "code",
   "execution_count": 36,
   "metadata": {},
   "outputs": [],
   "source": [
    "del data['celeb_names']"
   ]
  },
  {
   "cell_type": "code",
   "execution_count": 39,
   "metadata": {},
   "outputs": [],
   "source": [
    "df = pd.DataFrame(data)"
   ]
  },
  {
   "cell_type": "code",
   "execution_count": 48,
   "metadata": {},
   "outputs": [
    {
     "data": {
      "text/html": [
       "<div>\n",
       "<style scoped>\n",
       "    .dataframe tbody tr th:only-of-type {\n",
       "        vertical-align: middle;\n",
       "    }\n",
       "\n",
       "    .dataframe tbody tr th {\n",
       "        vertical-align: top;\n",
       "    }\n",
       "\n",
       "    .dataframe thead th {\n",
       "        text-align: right;\n",
       "    }\n",
       "</style>\n",
       "<table border=\"1\" class=\"dataframe\">\n",
       "  <thead>\n",
       "    <tr style=\"text-align: right;\">\n",
       "      <th></th>\n",
       "      <th>dob</th>\n",
       "      <th>photo_taken</th>\n",
       "      <th>full_path</th>\n",
       "      <th>gender</th>\n",
       "      <th>name</th>\n",
       "      <th>face_location</th>\n",
       "      <th>face_score</th>\n",
       "      <th>second_face_score</th>\n",
       "      <th>celeb_id</th>\n",
       "    </tr>\n",
       "  </thead>\n",
       "  <tbody>\n",
       "    <tr>\n",
       "      <th>0</th>\n",
       "      <td>693726</td>\n",
       "      <td>1968</td>\n",
       "      <td>[01/nm0000001_rm124825600_1899-5-10_1968.jpg]</td>\n",
       "      <td>1.0</td>\n",
       "      <td>[Fred Astaire]</td>\n",
       "      <td>[[1072.926, 161.838, 1214.7839999999999, 303.6...</td>\n",
       "      <td>1.459693</td>\n",
       "      <td>1.118973</td>\n",
       "      <td>6488</td>\n",
       "    </tr>\n",
       "    <tr>\n",
       "      <th>1</th>\n",
       "      <td>693726</td>\n",
       "      <td>1970</td>\n",
       "      <td>[01/nm0000001_rm3343756032_1899-5-10_1970.jpg]</td>\n",
       "      <td>1.0</td>\n",
       "      <td>[Fred Astaire]</td>\n",
       "      <td>[[477.184, 100.352, 622.592, 245.76]]</td>\n",
       "      <td>2.543198</td>\n",
       "      <td>1.852008</td>\n",
       "      <td>6488</td>\n",
       "    </tr>\n",
       "    <tr>\n",
       "      <th>2</th>\n",
       "      <td>693726</td>\n",
       "      <td>1968</td>\n",
       "      <td>[01/nm0000001_rm577153792_1899-5-10_1968.jpg]</td>\n",
       "      <td>1.0</td>\n",
       "      <td>[Fred Astaire]</td>\n",
       "      <td>[[114.96964308962852, 114.96964308962852, 451....</td>\n",
       "      <td>3.455579</td>\n",
       "      <td>2.985660</td>\n",
       "      <td>6488</td>\n",
       "    </tr>\n",
       "    <tr>\n",
       "      <th>3</th>\n",
       "      <td>693726</td>\n",
       "      <td>1968</td>\n",
       "      <td>[01/nm0000001_rm946909184_1899-5-10_1968.jpg]</td>\n",
       "      <td>1.0</td>\n",
       "      <td>[Fred Astaire]</td>\n",
       "      <td>[[622.8855056426588, 424.21750383700805, 844.3...</td>\n",
       "      <td>1.872117</td>\n",
       "      <td>NaN</td>\n",
       "      <td>6488</td>\n",
       "    </tr>\n",
       "    <tr>\n",
       "      <th>4</th>\n",
       "      <td>693726</td>\n",
       "      <td>1968</td>\n",
       "      <td>[01/nm0000001_rm980463616_1899-5-10_1968.jpg]</td>\n",
       "      <td>1.0</td>\n",
       "      <td>[Fred Astaire]</td>\n",
       "      <td>[[1013.8590023603723, 233.8820422075853, 1201....</td>\n",
       "      <td>1.158766</td>\n",
       "      <td>NaN</td>\n",
       "      <td>6488</td>\n",
       "    </tr>\n",
       "    <tr>\n",
       "      <th>5</th>\n",
       "      <td>702986</td>\n",
       "      <td>1991</td>\n",
       "      <td>[02/nm0000002_rm1075631616_1924-9-16_1991.jpg]</td>\n",
       "      <td>0.0</td>\n",
       "      <td>[Lauren Bacall]</td>\n",
       "      <td>[[686.6768205940973, 458.4672137293982, 1198.1...</td>\n",
       "      <td>3.490563</td>\n",
       "      <td>1.345335</td>\n",
       "      <td>11516</td>\n",
       "    </tr>\n",
       "    <tr>\n",
       "      <th>6</th>\n",
       "      <td>702986</td>\n",
       "      <td>2004</td>\n",
       "      <td>[02/nm0000002_rm1346607872_1924-9-16_2004.jpg]</td>\n",
       "      <td>0.0</td>\n",
       "      <td>[Lauren Bacall]</td>\n",
       "      <td>[[78.23569406558903, 52.335129377059346, 194.2...</td>\n",
       "      <td>3.479189</td>\n",
       "      <td>NaN</td>\n",
       "      <td>11516</td>\n",
       "    </tr>\n",
       "    <tr>\n",
       "      <th>7</th>\n",
       "      <td>702986</td>\n",
       "      <td>2004</td>\n",
       "      <td>[02/nm0000002_rm1363385088_1924-9-16_2004.jpg]</td>\n",
       "      <td>0.0</td>\n",
       "      <td>[Lauren Bacall]</td>\n",
       "      <td>[[64.30867103752385, 64.30867103752385, 207.26...</td>\n",
       "      <td>3.870171</td>\n",
       "      <td>NaN</td>\n",
       "      <td>11516</td>\n",
       "    </tr>\n",
       "    <tr>\n",
       "      <th>8</th>\n",
       "      <td>702986</td>\n",
       "      <td>1991</td>\n",
       "      <td>[02/nm0000002_rm1411175936_1924-9-16_1991.jpg]</td>\n",
       "      <td>0.0</td>\n",
       "      <td>[Lauren Bacall]</td>\n",
       "      <td>[[212.7672369223355, 1055.6441846116777, 526.7...</td>\n",
       "      <td>3.786499</td>\n",
       "      <td>3.629704</td>\n",
       "      <td>11516</td>\n",
       "    </tr>\n",
       "    <tr>\n",
       "      <th>9</th>\n",
       "      <td>702986</td>\n",
       "      <td>2004</td>\n",
       "      <td>[02/nm0000002_rm1447271168_1924-9-16_2004.jpg]</td>\n",
       "      <td>0.0</td>\n",
       "      <td>[Lauren Bacall]</td>\n",
       "      <td>[[242.176, 49.664, 278.528, 86.016]]</td>\n",
       "      <td>3.472944</td>\n",
       "      <td>2.945133</td>\n",
       "      <td>11516</td>\n",
       "    </tr>\n",
       "    <tr>\n",
       "      <th>10</th>\n",
       "      <td>702986</td>\n",
       "      <td>2008</td>\n",
       "      <td>[02/nm0000002_rm1624085760_1924-9-16_2008.jpg]</td>\n",
       "      <td>0.0</td>\n",
       "      <td>[Lauren Bacall]</td>\n",
       "      <td>[[108.03894850648923, 28.82624960697085, 158.4...</td>\n",
       "      <td>3.862811</td>\n",
       "      <td>1.525307</td>\n",
       "      <td>11516</td>\n",
       "    </tr>\n",
       "    <tr>\n",
       "      <th>11</th>\n",
       "      <td>702986</td>\n",
       "      <td>1991</td>\n",
       "      <td>[02/nm0000002_rm1646056960_1924-9-16_1991.jpg]</td>\n",
       "      <td>0.0</td>\n",
       "      <td>[Lauren Bacall]</td>\n",
       "      <td>[[72.28774564077851, 1055.6441846116777, 386.3...</td>\n",
       "      <td>3.767166</td>\n",
       "      <td>3.463460</td>\n",
       "      <td>11516</td>\n",
       "    </tr>\n",
       "    <tr>\n",
       "      <th>12</th>\n",
       "      <td>702986</td>\n",
       "      <td>1974</td>\n",
       "      <td>[02/nm0000002_rm221957120_1924-9-16_1974.jpg]</td>\n",
       "      <td>0.0</td>\n",
       "      <td>[Lauren Bacall]</td>\n",
       "      <td>[[3173.144692593433, 401.0408365741791, 4059.1...</td>\n",
       "      <td>4.096431</td>\n",
       "      <td>NaN</td>\n",
       "      <td>11516</td>\n",
       "    </tr>\n",
       "    <tr>\n",
       "      <th>13</th>\n",
       "      <td>702986</td>\n",
       "      <td>2007</td>\n",
       "      <td>[02/nm0000002_rm2287049216_1924-9-16_2007.jpg]</td>\n",
       "      <td>0.0</td>\n",
       "      <td>[Lauren Bacall]</td>\n",
       "      <td>[[138.80620247948153, 33.92673852953003, 181.1...</td>\n",
       "      <td>3.482030</td>\n",
       "      <td>NaN</td>\n",
       "      <td>11516</td>\n",
       "    </tr>\n",
       "    <tr>\n",
       "      <th>14</th>\n",
       "      <td>702986</td>\n",
       "      <td>1974</td>\n",
       "      <td>[02/nm0000002_rm238734336_1924-9-16_1974.jpg]</td>\n",
       "      <td>0.0</td>\n",
       "      <td>[Lauren Bacall]</td>\n",
       "      <td>[[2135.2177839424635, 765.8537799794512, 3499....</td>\n",
       "      <td>4.865421</td>\n",
       "      <td>NaN</td>\n",
       "      <td>11516</td>\n",
       "    </tr>\n",
       "  </tbody>\n",
       "</table>\n",
       "</div>"
      ],
      "text/plain": [
       "       dob  photo_taken                                       full_path  \\\n",
       "0   693726         1968   [01/nm0000001_rm124825600_1899-5-10_1968.jpg]   \n",
       "1   693726         1970  [01/nm0000001_rm3343756032_1899-5-10_1970.jpg]   \n",
       "2   693726         1968   [01/nm0000001_rm577153792_1899-5-10_1968.jpg]   \n",
       "3   693726         1968   [01/nm0000001_rm946909184_1899-5-10_1968.jpg]   \n",
       "4   693726         1968   [01/nm0000001_rm980463616_1899-5-10_1968.jpg]   \n",
       "5   702986         1991  [02/nm0000002_rm1075631616_1924-9-16_1991.jpg]   \n",
       "6   702986         2004  [02/nm0000002_rm1346607872_1924-9-16_2004.jpg]   \n",
       "7   702986         2004  [02/nm0000002_rm1363385088_1924-9-16_2004.jpg]   \n",
       "8   702986         1991  [02/nm0000002_rm1411175936_1924-9-16_1991.jpg]   \n",
       "9   702986         2004  [02/nm0000002_rm1447271168_1924-9-16_2004.jpg]   \n",
       "10  702986         2008  [02/nm0000002_rm1624085760_1924-9-16_2008.jpg]   \n",
       "11  702986         1991  [02/nm0000002_rm1646056960_1924-9-16_1991.jpg]   \n",
       "12  702986         1974   [02/nm0000002_rm221957120_1924-9-16_1974.jpg]   \n",
       "13  702986         2007  [02/nm0000002_rm2287049216_1924-9-16_2007.jpg]   \n",
       "14  702986         1974   [02/nm0000002_rm238734336_1924-9-16_1974.jpg]   \n",
       "\n",
       "    gender             name  \\\n",
       "0      1.0   [Fred Astaire]   \n",
       "1      1.0   [Fred Astaire]   \n",
       "2      1.0   [Fred Astaire]   \n",
       "3      1.0   [Fred Astaire]   \n",
       "4      1.0   [Fred Astaire]   \n",
       "5      0.0  [Lauren Bacall]   \n",
       "6      0.0  [Lauren Bacall]   \n",
       "7      0.0  [Lauren Bacall]   \n",
       "8      0.0  [Lauren Bacall]   \n",
       "9      0.0  [Lauren Bacall]   \n",
       "10     0.0  [Lauren Bacall]   \n",
       "11     0.0  [Lauren Bacall]   \n",
       "12     0.0  [Lauren Bacall]   \n",
       "13     0.0  [Lauren Bacall]   \n",
       "14     0.0  [Lauren Bacall]   \n",
       "\n",
       "                                        face_location  face_score  \\\n",
       "0   [[1072.926, 161.838, 1214.7839999999999, 303.6...    1.459693   \n",
       "1               [[477.184, 100.352, 622.592, 245.76]]    2.543198   \n",
       "2   [[114.96964308962852, 114.96964308962852, 451....    3.455579   \n",
       "3   [[622.8855056426588, 424.21750383700805, 844.3...    1.872117   \n",
       "4   [[1013.8590023603723, 233.8820422075853, 1201....    1.158766   \n",
       "5   [[686.6768205940973, 458.4672137293982, 1198.1...    3.490563   \n",
       "6   [[78.23569406558903, 52.335129377059346, 194.2...    3.479189   \n",
       "7   [[64.30867103752385, 64.30867103752385, 207.26...    3.870171   \n",
       "8   [[212.7672369223355, 1055.6441846116777, 526.7...    3.786499   \n",
       "9                [[242.176, 49.664, 278.528, 86.016]]    3.472944   \n",
       "10  [[108.03894850648923, 28.82624960697085, 158.4...    3.862811   \n",
       "11  [[72.28774564077851, 1055.6441846116777, 386.3...    3.767166   \n",
       "12  [[3173.144692593433, 401.0408365741791, 4059.1...    4.096431   \n",
       "13  [[138.80620247948153, 33.92673852953003, 181.1...    3.482030   \n",
       "14  [[2135.2177839424635, 765.8537799794512, 3499....    4.865421   \n",
       "\n",
       "    second_face_score  celeb_id  \n",
       "0            1.118973      6488  \n",
       "1            1.852008      6488  \n",
       "2            2.985660      6488  \n",
       "3                 NaN      6488  \n",
       "4                 NaN      6488  \n",
       "5            1.345335     11516  \n",
       "6                 NaN     11516  \n",
       "7                 NaN     11516  \n",
       "8            3.629704     11516  \n",
       "9            2.945133     11516  \n",
       "10           1.525307     11516  \n",
       "11           3.463460     11516  \n",
       "12                NaN     11516  \n",
       "13                NaN     11516  \n",
       "14                NaN     11516  "
      ]
     },
     "execution_count": 48,
     "metadata": {},
     "output_type": "execute_result"
    }
   ],
   "source": [
    "df.head(15)"
   ]
  },
  {
   "cell_type": "code",
   "execution_count": 41,
   "metadata": {},
   "outputs": [
    {
     "data": {
      "text/plain": [
       "dob                    int32\n",
       "photo_taken           uint16\n",
       "full_path             object\n",
       "gender               float64\n",
       "name                  object\n",
       "face_location         object\n",
       "face_score           float64\n",
       "second_face_score    float64\n",
       "celeb_id              uint16\n",
       "dtype: object"
      ]
     },
     "execution_count": 41,
     "metadata": {},
     "output_type": "execute_result"
    }
   ],
   "source": [
    "df.dtypes"
   ]
  },
  {
   "cell_type": "code",
   "execution_count": 43,
   "metadata": {},
   "outputs": [
    {
     "data": {
      "text/plain": [
       "array([[(array([[723671, 703186, 711677, ..., 720620, 723893, 713846]]), array([[2009, 1964, 2008, ..., 2013, 2011, 2008]], dtype=uint16), array([[array(['17/10000217_1981-05-05_2009.jpg'], dtype='<U31'),\n",
       "        array(['48/10000548_1925-04-04_1964.jpg'], dtype='<U31'),\n",
       "        array(['12/100012_1948-07-03_2008.jpg'], dtype='<U29'), ...,\n",
       "        array(['09/9998109_1972-12-27_2013.jpg'], dtype='<U30'),\n",
       "        array(['00/9999400_1981-12-13_2011.jpg'], dtype='<U30'),\n",
       "        array(['80/999980_1954-06-11_2008.jpg'], dtype='<U29')]],\n",
       "      dtype=object), array([[1., 1., 1., ..., 1., 1., 0.]]), array([[array(['Sami Jauhojärvi'], dtype='<U15'),\n",
       "        array(['Dettmar Cramer'], dtype='<U14'),\n",
       "        array(['Marc Okrand'], dtype='<U11'), ...,\n",
       "        array(['Michael Wiesinger'], dtype='<U17'),\n",
       "        array(['Johann Grugger'], dtype='<U14'),\n",
       "        array(['Greta Van Susteren'], dtype='<U18')]], dtype=object), array([[array([[111.29109473, 111.29109473, 252.66993082, 252.66993082]]),\n",
       "        array([[252.4833023 , 126.68165115, 354.53192596, 228.73027481]]),\n",
       "        array([[113.52, 169.84, 366.08, 422.4 ]]), ...,\n",
       "        array([[169.88839786,  74.31669472, 235.2534231 , 139.68171997]]),\n",
       "        array([[1, 1, 1, 1]], dtype=uint8),\n",
       "        array([[ 92.72633235,  62.0435549 , 230.12083087, 199.43805342]])]],\n",
       "      dtype=object), array([[4.30096239, 2.6456395 , 4.32932883, ..., 3.49430317,       -inf,\n",
       "        5.48691655]]), array([[       nan, 1.94924791,        nan, ...,        nan,        nan,\n",
       "               nan]]))]],\n",
       "      dtype=[('dob', 'O'), ('photo_taken', 'O'), ('full_path', 'O'), ('gender', 'O'), ('name', 'O'), ('face_location', 'O'), ('face_score', 'O'), ('second_face_score', 'O')])"
      ]
     },
     "execution_count": 43,
     "metadata": {},
     "output_type": "execute_result"
    }
   ],
   "source": [
    "wiki_data = sio.loadmat('data/wiki/wiki.mat')['wiki']\n",
    "wiki_data"
   ]
  },
  {
   "cell_type": "code",
   "execution_count": 46,
   "metadata": {},
   "outputs": [],
   "source": [
    "wiki_columns = wiki_data.dtype.names"
   ]
  },
  {
   "cell_type": "code",
   "execution_count": 47,
   "metadata": {},
   "outputs": [],
   "source": [
    "wiki_data = {column : wiki_data[column][0,0][0] for column in wiki_columns} "
   ]
  },
  {
   "cell_type": "code",
   "execution_count": 49,
   "metadata": {},
   "outputs": [
    {
     "data": {
      "text/plain": [
       "{'dob': array([723671, 703186, 711677, ..., 720620, 723893, 713846]),\n",
       " 'photo_taken': array([2009, 1964, 2008, ..., 2013, 2011, 2008], dtype=uint16),\n",
       " 'full_path': array([array(['17/10000217_1981-05-05_2009.jpg'], dtype='<U31'),\n",
       "        array(['48/10000548_1925-04-04_1964.jpg'], dtype='<U31'),\n",
       "        array(['12/100012_1948-07-03_2008.jpg'], dtype='<U29'), ...,\n",
       "        array(['09/9998109_1972-12-27_2013.jpg'], dtype='<U30'),\n",
       "        array(['00/9999400_1981-12-13_2011.jpg'], dtype='<U30'),\n",
       "        array(['80/999980_1954-06-11_2008.jpg'], dtype='<U29')],\n",
       "       dtype=object),\n",
       " 'gender': array([1., 1., 1., ..., 1., 1., 0.]),\n",
       " 'name': array([array(['Sami Jauhojärvi'], dtype='<U15'),\n",
       "        array(['Dettmar Cramer'], dtype='<U14'),\n",
       "        array(['Marc Okrand'], dtype='<U11'), ...,\n",
       "        array(['Michael Wiesinger'], dtype='<U17'),\n",
       "        array(['Johann Grugger'], dtype='<U14'),\n",
       "        array(['Greta Van Susteren'], dtype='<U18')], dtype=object),\n",
       " 'face_location': array([array([[111.29109473, 111.29109473, 252.66993082, 252.66993082]]),\n",
       "        array([[252.4833023 , 126.68165115, 354.53192596, 228.73027481]]),\n",
       "        array([[113.52, 169.84, 366.08, 422.4 ]]), ...,\n",
       "        array([[169.88839786,  74.31669472, 235.2534231 , 139.68171997]]),\n",
       "        array([[1, 1, 1, 1]], dtype=uint8),\n",
       "        array([[ 92.72633235,  62.0435549 , 230.12083087, 199.43805342]])],\n",
       "       dtype=object),\n",
       " 'face_score': array([4.30096239, 2.6456395 , 4.32932883, ..., 3.49430317,       -inf,\n",
       "        5.48691655]),\n",
       " 'second_face_score': array([       nan, 1.94924791,        nan, ...,        nan,        nan,\n",
       "               nan])}"
      ]
     },
     "execution_count": 49,
     "metadata": {},
     "output_type": "execute_result"
    }
   ],
   "source": [
    "wiki_data"
   ]
  },
  {
   "cell_type": "code",
   "execution_count": 51,
   "metadata": {},
   "outputs": [
    {
     "data": {
      "text/html": [
       "<div>\n",
       "<style scoped>\n",
       "    .dataframe tbody tr th:only-of-type {\n",
       "        vertical-align: middle;\n",
       "    }\n",
       "\n",
       "    .dataframe tbody tr th {\n",
       "        vertical-align: top;\n",
       "    }\n",
       "\n",
       "    .dataframe thead th {\n",
       "        text-align: right;\n",
       "    }\n",
       "</style>\n",
       "<table border=\"1\" class=\"dataframe\">\n",
       "  <thead>\n",
       "    <tr style=\"text-align: right;\">\n",
       "      <th></th>\n",
       "      <th>dob</th>\n",
       "      <th>photo_taken</th>\n",
       "      <th>full_path</th>\n",
       "      <th>gender</th>\n",
       "      <th>name</th>\n",
       "      <th>face_location</th>\n",
       "      <th>face_score</th>\n",
       "      <th>second_face_score</th>\n",
       "    </tr>\n",
       "  </thead>\n",
       "  <tbody>\n",
       "    <tr>\n",
       "      <th>0</th>\n",
       "      <td>723671</td>\n",
       "      <td>2009</td>\n",
       "      <td>[17/10000217_1981-05-05_2009.jpg]</td>\n",
       "      <td>1.0</td>\n",
       "      <td>[Sami Jauhojärvi]</td>\n",
       "      <td>[[111.29109473290997, 111.29109473290997, 252....</td>\n",
       "      <td>4.300962</td>\n",
       "      <td>NaN</td>\n",
       "    </tr>\n",
       "    <tr>\n",
       "      <th>1</th>\n",
       "      <td>703186</td>\n",
       "      <td>1964</td>\n",
       "      <td>[48/10000548_1925-04-04_1964.jpg]</td>\n",
       "      <td>1.0</td>\n",
       "      <td>[Dettmar Cramer]</td>\n",
       "      <td>[[252.48330229530742, 126.68165114765371, 354....</td>\n",
       "      <td>2.645639</td>\n",
       "      <td>1.949248</td>\n",
       "    </tr>\n",
       "    <tr>\n",
       "      <th>2</th>\n",
       "      <td>711677</td>\n",
       "      <td>2008</td>\n",
       "      <td>[12/100012_1948-07-03_2008.jpg]</td>\n",
       "      <td>1.0</td>\n",
       "      <td>[Marc Okrand]</td>\n",
       "      <td>[[113.52, 169.83999999999997, 366.08, 422.4]]</td>\n",
       "      <td>4.329329</td>\n",
       "      <td>NaN</td>\n",
       "    </tr>\n",
       "    <tr>\n",
       "      <th>3</th>\n",
       "      <td>705061</td>\n",
       "      <td>1961</td>\n",
       "      <td>[65/10001965_1930-05-23_1961.jpg]</td>\n",
       "      <td>1.0</td>\n",
       "      <td>[Aleksandar Matanović]</td>\n",
       "      <td>[[1, 1, 634, 440]]</td>\n",
       "      <td>-inf</td>\n",
       "      <td>NaN</td>\n",
       "    </tr>\n",
       "    <tr>\n",
       "      <th>4</th>\n",
       "      <td>720044</td>\n",
       "      <td>2012</td>\n",
       "      <td>[16/10002116_1971-05-31_2012.jpg]</td>\n",
       "      <td>0.0</td>\n",
       "      <td>[Diana Damrau]</td>\n",
       "      <td>[[171.61031405173117, 75.57451239763239, 266.7...</td>\n",
       "      <td>3.408442</td>\n",
       "      <td>NaN</td>\n",
       "    </tr>\n",
       "  </tbody>\n",
       "</table>\n",
       "</div>"
      ],
      "text/plain": [
       "      dob  photo_taken                          full_path  gender  \\\n",
       "0  723671         2009  [17/10000217_1981-05-05_2009.jpg]     1.0   \n",
       "1  703186         1964  [48/10000548_1925-04-04_1964.jpg]     1.0   \n",
       "2  711677         2008    [12/100012_1948-07-03_2008.jpg]     1.0   \n",
       "3  705061         1961  [65/10001965_1930-05-23_1961.jpg]     1.0   \n",
       "4  720044         2012  [16/10002116_1971-05-31_2012.jpg]     0.0   \n",
       "\n",
       "                     name                                      face_location  \\\n",
       "0       [Sami Jauhojärvi]  [[111.29109473290997, 111.29109473290997, 252....   \n",
       "1        [Dettmar Cramer]  [[252.48330229530742, 126.68165114765371, 354....   \n",
       "2           [Marc Okrand]      [[113.52, 169.83999999999997, 366.08, 422.4]]   \n",
       "3  [Aleksandar Matanović]                                 [[1, 1, 634, 440]]   \n",
       "4          [Diana Damrau]  [[171.61031405173117, 75.57451239763239, 266.7...   \n",
       "\n",
       "   face_score  second_face_score  \n",
       "0    4.300962                NaN  \n",
       "1    2.645639           1.949248  \n",
       "2    4.329329                NaN  \n",
       "3        -inf                NaN  \n",
       "4    3.408442                NaN  "
      ]
     },
     "execution_count": 51,
     "metadata": {},
     "output_type": "execute_result"
    }
   ],
   "source": [
    "wiki_df = pd.DataFrame(wiki_data)\n",
    "wiki_df.head()"
   ]
  },
  {
   "cell_type": "code",
   "execution_count": 53,
   "metadata": {},
   "outputs": [],
   "source": [
    "#Not cominbining dataframes just yet because the jpg files are in different folders but this is not shown in the full_path"
   ]
  },
  {
   "cell_type": "code",
   "execution_count": 54,
   "metadata": {},
   "outputs": [],
   "source": [
    "df.to_csv('imdb_df.csv', index= False)\n",
    "wiki_df.to_csv('wiki_df.csv', index = False)"
   ]
  }
 ],
 "metadata": {
  "kernelspec": {
   "display_name": "Python 3",
   "language": "python",
   "name": "python3"
  },
  "language_info": {
   "codemirror_mode": {
    "name": "ipython",
    "version": 3
   },
   "file_extension": ".py",
   "mimetype": "text/x-python",
   "name": "python",
   "nbconvert_exporter": "python",
   "pygments_lexer": "ipython3",
   "version": "3.7.3"
  }
 },
 "nbformat": 4,
 "nbformat_minor": 2
}
